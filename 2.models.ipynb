{
 "cells": [
  {
   "cell_type": "code",
   "execution_count": 1,
   "id": "a0bed4f3",
   "metadata": {},
   "outputs": [],
   "source": [
    "import numpy as np\n",
    "import pandas as pd\n",
    "import seaborn as sns\n",
    "import matplotlib.pyplot as plt\n",
    "import shap\n",
    "from imblearn.over_sampling import SMOTE\n",
    "from sklearn.linear_model import LogisticRegression\n",
    "from sklearn.neighbors import KNeighborsClassifier\n",
    "from catboost import CatBoostClassifier\n",
    "from sklearn.neural_network import MLPClassifier\n",
    "from sklearn.metrics import recall_score\n",
    "from sklearn.metrics import precision_score\n",
    "from sklearn.preprocessing import StandardScaler, MinMaxScaler, RobustScaler\n",
    "from sklearn.metrics import f1_score, make_scorer, confusion_matrix, fbeta_score\n",
    "import optuna\n",
    "from sklearn.pipeline import Pipeline\n",
    "from sklearn.model_selection import train_test_split\n",
    "from sklearn.model_selection import StratifiedKFold\n",
    "import warnings"
   ]
  },
  {
   "cell_type": "code",
   "execution_count": 5,
   "id": "b25d0837",
   "metadata": {},
   "outputs": [],
   "source": [
    "pr = 0.6\n",
    "rec = 0.6"
   ]
  },
  {
   "cell_type": "code",
   "execution_count": 6,
   "id": "c12c66d4",
   "metadata": {},
   "outputs": [
    {
     "data": {
      "text/plain": [
       "0.6"
      ]
     },
     "execution_count": 6,
     "metadata": {},
     "output_type": "execute_result"
    }
   ],
   "source": [
    "(2 * pr * rec) / (pr + rec)"
   ]
  },
  {
   "cell_type": "code",
   "execution_count": null,
   "id": "33671007",
   "metadata": {},
   "outputs": [],
   "source": []
  },
  {
   "cell_type": "code",
   "execution_count": null,
   "id": "2c6f5050",
   "metadata": {},
   "outputs": [],
   "source": []
  },
  {
   "cell_type": "code",
   "execution_count": 2,
   "id": "bf029bef",
   "metadata": {},
   "outputs": [],
   "source": [
    "random_state = 33 \n",
    "test_size = 0.20 \n",
    "n_trials = 100 #количество итераций optuna\n",
    "optuna.logging.set_verbosity(optuna.logging.WARNING) #optuna \"тихий\" режим\n",
    "warnings.filterwarnings(\"ignore\") #optuna \"тихий\" режим"
   ]
  },
  {
   "cell_type": "code",
   "execution_count": 3,
   "id": "64b87ff2",
   "metadata": {},
   "outputs": [],
   "source": [
    "df = pd.read_csv('df.csv')\n",
    "X = df.drop(['ij_1'], axis=1)\n",
    "y = df['ij_1']"
   ]
  },
  {
   "cell_type": "code",
   "execution_count": 4,
   "id": "5863072b",
   "metadata": {},
   "outputs": [],
   "source": [
    "X_train_valid, X_test, y_train_valid, y_test = train_test_split(X, y, test_size=test_size, random_state=random_state)"
   ]
  },
  {
   "cell_type": "markdown",
   "id": "eafb0069",
   "metadata": {},
   "source": [
    "# Logistic Regression"
   ]
  },
  {
   "cell_type": "code",
   "execution_count": 6,
   "id": "385b2d07",
   "metadata": {},
   "outputs": [
    {
     "data": {
      "application/vnd.jupyter.widget-view+json": {
       "model_id": "77d72f73f8954cc79f0633d808d1969f",
       "version_major": 2,
       "version_minor": 0
      },
      "text/plain": [
       "  0%|          | 0/100 [00:00<?, ?it/s]"
      ]
     },
     "metadata": {},
     "output_type": "display_data"
    },
    {
     "name": "stdout",
     "output_type": "stream",
     "text": [
      "Лучшие параметры_LogReg: {'scaler': 'RobustScaler', 'logreg__C': 329.71976414449614, 'logreg__penalty': 'l1', 'logreg__solver': 'liblinear', 'k_neighbors': 4, 'param_threshold': 13}\n",
      "Лучший скор на valid_LogReg: 0.39761904761904765\n"
     ]
    }
   ],
   "source": [
    "def objective(trial):\n",
    "# Выбор масштабировщика\n",
    "    scaler_name = trial.suggest_categorical('scaler', ['StandardScaler', 'MinMaxScaler', 'RobustScaler'])\n",
    "    if scaler_name == 'StandardScaler':\n",
    "        scaler = StandardScaler()\n",
    "    elif scaler_name == 'MinMaxScaler':\n",
    "        scaler = MinMaxScaler()\n",
    "    else:                                                                                                                                                              \n",
    "        scaler = RobustScaler()\n",
    "    \n",
    "    # Выбор параметров логистической регрессии\n",
    "    C = trial.suggest_float('logreg__C', 0.001, 1000)\n",
    "    penalty = trial.suggest_categorical('logreg__penalty', ['l1', 'l2'])\n",
    "    solver = trial.suggest_categorical('logreg__solver', ['liblinear'])\n",
    "    param_smote = {\"k_neighbors\": trial.suggest_int(\"k_neighbors\", 4, 10)}\n",
    "    param_threshold = trial.suggest_int(\"param_threshold\", 10, 90)\n",
    "        \n",
    "    # Создание пайплайна\n",
    "    pipeline = Pipeline([\n",
    "        ('scaler', scaler),\n",
    "        ('logreg', LogisticRegression(C=C, penalty=penalty, solver=solver, max_iter=10000, random_state=random_state))\n",
    "    ])\n",
    "    \n",
    "    # Оценка качества модели с помощью кросс-валидации\n",
    "    \n",
    "    \n",
    "    skf = StratifiedKFold(random_state=random_state, n_splits=5, shuffle=True)\n",
    "    oversample = SMOTE(random_state=random_state, **param_smote)\n",
    "    param_threshold_ = param_threshold\n",
    "    f1_scores = []\n",
    "    for i, (train_index, valid_index) in enumerate(skf.split(X_train_valid, y_train_valid)):\n",
    "        X_train_oversampled, y_train_oversampled = oversample.fit_resample(X_train_valid.iloc[train_index], y_train_valid.iloc[train_index])\n",
    "        pipeline.fit(X_train_oversampled, y_train_oversampled)\n",
    "        pred_prob = pipeline.predict_proba(X_train_valid.iloc[valid_index])[:, 1]\n",
    "        f1_scores.append(f1_score(y_train_valid.iloc[valid_index], pred_prob > param_threshold_/100))\n",
    "    return np.mean(f1_scores)\n",
    "\n",
    "# Настройка и запуск оптимизации\n",
    "sampler = optuna.samplers.TPESampler(seed=random_state)\n",
    "study = optuna.create_study(direction='maximize', sampler=sampler)\n",
    "study.optimize(objective, n_trials=n_trials, show_progress_bar=True)\n",
    "\n",
    "# Вывод лучших параметров\n",
    "print(f\"Лучшие параметры_LogReg: {study.best_params}\")\n",
    "print(f\"Лучший скор на valid_LogReg: {study.best_value}\")\n",
    "# Обучение и оценка модели на тестовой выборке с использованием лучших параметров\n",
    "best_params_LogReg = study.best_params\n",
    "best_score_LogReg = study.best_value\n",
    "\n",
    "# Воссоздание наилучшего масштабировщика\n",
    "if best_params_LogReg['scaler'] == 'StandardScaler':\n",
    "    best_scaler = StandardScaler()\n",
    "elif best_params_LogReg['scaler'] == 'MinMaxScaler':\n",
    "    best_scaler = MinMaxScaler()\n",
    "else:\n",
    "    best_scaler = RobustScaler()\n",
    "\n",
    "# Воссоздание наилучшей модели\n",
    "best_model_LogReg = Pipeline([\n",
    "    ('scaler', best_scaler),\n",
    "    ('logreg', LogisticRegression(\n",
    "        C=best_params_LogReg['logreg__C'],\n",
    "        penalty=best_params_LogReg['logreg__penalty'],\n",
    "        solver=best_params_LogReg['logreg__solver'],\n",
    "        max_iter=10000\n",
    "    ))\n",
    "])\n",
    "\n",
    "oversample = SMOTE(random_state=random_state, k_neighbors=best_params_LogReg['k_neighbors'])\n",
    "X_train_oversampled_fin, y_train_oversampled_fin = oversample.fit_resample(X_train_valid, y_train_valid)\n",
    "best_model_LogReg.fit(X_train_oversampled_fin, y_train_oversampled_fin)\n",
    "f1_LogReg = f1_score(y_test, (best_model_LogReg.predict_proba(X_test)[:, 1] > best_params_LogReg['param_threshold']/100).astype(int))\n",
    "tn_LogReg, fp_LogReg, fn_LogReg, tp_LogReg = confusion_matrix(y_test, (best_model_LogReg.predict_proba(X_test)[:, 1] > best_params_LogReg['param_threshold']/100).astype(int)).ravel()\n",
    "recall_LorReg = recall_score(y_test, (best_model_LogReg.predict_proba(X_test)[:, 1] > best_params_LogReg['param_threshold']/100).astype(int))\n",
    "precision_LorReg = recall_score(y_test, (best_model_LogReg.predict_proba(X_test)[:, 1] > best_params_LogReg['param_threshold']/100).astype(int))"
   ]
  },
  {
   "cell_type": "markdown",
   "id": "3c178227",
   "metadata": {},
   "source": [
    "# KNN\n"
   ]
  },
  {
   "cell_type": "code",
   "execution_count": 8,
   "id": "c6f4b9c5",
   "metadata": {},
   "outputs": [
    {
     "data": {
      "application/vnd.jupyter.widget-view+json": {
       "model_id": "04bee7be6f8d49b7a8562efc29d404d8",
       "version_major": 2,
       "version_minor": 0
      },
      "text/plain": [
       "  0%|          | 0/100 [00:00<?, ?it/s]"
      ]
     },
     "metadata": {},
     "output_type": "display_data"
    },
    {
     "name": "stdout",
     "output_type": "stream",
     "text": [
      "Лучшие параметры_KNN: {'scaler': 'StandardScaler', 'n_neighbors': 15, 'weights': 'distance', 'metric': 'minkowski', 'k_neighbors': 10, 'param_threshold': 79}\n",
      "Лучший скор на valid_KNN: 0.3354710305174701\n"
     ]
    }
   ],
   "source": [
    "def objective(trial):\n",
    "# Выбор масштабировщика\n",
    "    scaler_name = trial.suggest_categorical('scaler', ['StandardScaler', 'MinMaxScaler', 'RobustScaler'])\n",
    "    if scaler_name == 'StandardScaler':\n",
    "        scaler = StandardScaler()\n",
    "    elif scaler_name == 'MinMaxScaler':\n",
    "        scaler = MinMaxScaler()\n",
    "    else:\n",
    "        scaler = RobustScaler()\n",
    "    \n",
    "    # Выбор параметров логистической регрессии\n",
    "    n_neighbors = trial.suggest_int(\"n_neighbors\", 1, 15)\n",
    "    weights = trial.suggest_categorical(\"weights\", ['uniform', 'distance'])\n",
    "    metric = trial.suggest_categorical(\"metric\", ['euclidean', 'manhattan', 'minkowski'])\n",
    "    param_smote = {\"k_neighbors\": trial.suggest_int(\"k_neighbors\", 4, 10)}\n",
    "    param_threshold = trial.suggest_int(\"param_threshold\", 10, 90)\n",
    "        \n",
    "    # Создание пайплайна\n",
    "    pipeline = Pipeline([\n",
    "        ('scaler', scaler),\n",
    "        ('knn', KNeighborsClassifier(n_neighbors=n_neighbors, weights=weights, metric=metric))\n",
    "    ])\n",
    "    \n",
    "    # Оценка качества модели с помощью кросс-валидации\n",
    "    \n",
    "    \n",
    "    skf = StratifiedKFold(random_state=random_state, n_splits=5, shuffle=True)\n",
    "    oversample = SMOTE(random_state=random_state, **param_smote)\n",
    "    param_threshold_ = param_threshold\n",
    "    f1_scores = []\n",
    "    for i, (train_index, valid_index) in enumerate(skf.split(X_train_valid, y_train_valid)):\n",
    "        \n",
    "        X_train_oversampled, y_train_oversampled = oversample.fit_resample(X_train_valid.iloc[train_index], y_train_valid.iloc[train_index])\n",
    "        pipeline.fit(X_train_oversampled, y_train_oversampled)\n",
    "        pred_prob = pipeline.predict_proba(X_train_valid.iloc[valid_index])[:, 1]\n",
    "        f1_scores.append(f1_score(y_train_valid.iloc[valid_index], pred_prob > param_threshold_/100))\n",
    "    return np.mean(f1_scores)\n",
    "\n",
    "# Настройка и запуск оптимизации\n",
    "sampler = optuna.samplers.TPESampler(seed=random_state)\n",
    "study = optuna.create_study(direction='maximize', sampler=sampler)\n",
    "study.optimize(objective, n_trials=n_trials, show_progress_bar=True)\n",
    "\n",
    "# Вывод лучших параметров\n",
    "print(f\"Лучшие параметры_KNN: {study.best_params}\")\n",
    "print(f\"Лучший скор на valid_KNN: {study.best_value}\")\n",
    "# Обучение и оценка модели на тестовой выборке с использованием лучших параметров\n",
    "best_params_KNN = study.best_params\n",
    "best_score_KNN = study.best_value\n",
    "\n",
    "# Воссоздание наилучшего масштабировщика\n",
    "if best_params_KNN['scaler'] == 'StandardScaler':\n",
    "    best_scaler = StandardScaler()\n",
    "elif best_params_KNN['scaler'] == 'MinMaxScaler':\n",
    "    best_scaler = MinMaxScaler()\n",
    "else:\n",
    "    best_scaler = RobustScaler()\n",
    "\n",
    "# Воссоздание наилучшей модели\n",
    "best_model_KNN = Pipeline([\n",
    "    ('scaler', best_scaler),\n",
    "    ('knn', KNeighborsClassifier(\n",
    "        n_neighbors=best_params_KNN['n_neighbors'],\n",
    "        weights=best_params_KNN['weights'],\n",
    "        metric=best_params_KNN['metric']\n",
    "    ))\n",
    "])\n",
    "\n",
    "oversample = SMOTE(random_state=random_state, k_neighbors=best_params_KNN['k_neighbors'])\n",
    "X_train_oversampled_fin, y_train_oversampled_fin = oversample.fit_resample(X_train_valid, y_train_valid)\n",
    "best_model_KNN.fit(X_train_oversampled_fin, y_train_oversampled_fin)\n",
    "f1_KNN = f1_score(y_test, (best_model_KNN.predict_proba(X_test)[:, 1] > best_params_KNN['param_threshold']/100).astype(int))\n",
    "tn_KNN, fp_KNN, fn_KNN, tp_KNN = confusion_matrix(y_test, (best_model_KNN.predict_proba(X_test)[:, 1] > best_params_KNN['param_threshold']/100).astype(int)).ravel()\n",
    "recall_KNN = recall_score(y_test, (best_model_KNN.predict_proba(X_test)[:, 1] > best_params_KNN['param_threshold']/100).astype(int))\n",
    "precision_KNN = recall_score(y_test, (best_model_KNN.predict_proba(X_test)[:, 1] > best_params_KNN['param_threshold']/100).astype(int))"
   ]
  },
  {
   "cell_type": "markdown",
   "id": "9eca5f64",
   "metadata": {},
   "source": [
    "# Catboost"
   ]
  },
  {
   "cell_type": "code",
   "execution_count": 9,
   "id": "930c5769",
   "metadata": {},
   "outputs": [
    {
     "data": {
      "application/vnd.jupyter.widget-view+json": {
       "model_id": "ce42a54f60c940e4a96c88f7e6c5f234",
       "version_major": 2,
       "version_minor": 0
      },
      "text/plain": [
       "  0%|          | 0/100 [00:00<?, ?it/s]"
      ]
     },
     "metadata": {},
     "output_type": "display_data"
    },
    {
     "name": "stdout",
     "output_type": "stream",
     "text": [
      "\u001b[33m[W 2024-08-28 19:18:07,241]\u001b[0m Trial 5 failed with parameters: {'iterations': 974, 'min_data_in_leaf': 83, 'depth': 7, 'learning_rate': 0.16640688804229012, 'k_neighbors': 6, 'param_threshold': 16} because of the following error: KeyboardInterrupt('').\u001b[0m\n",
      "Traceback (most recent call last):\n",
      "  File \"C:\\Users\\s.iglin\\AppData\\Local\\Programs\\Python\\Python310\\lib\\site-packages\\optuna\\study\\_optimize.py\", line 200, in _run_trial\n",
      "    value_or_values = func(trial)\n",
      "  File \"C:\\Users\\s.iglin\\AppData\\Local\\Temp\\ipykernel_7556\\1990626920.py\", line 29, in objective\n",
      "    pipeline.fit(X_train_oversampled, y_train_oversampled)\n",
      "  File \"C:\\Users\\s.iglin\\AppData\\Local\\Programs\\Python\\Python310\\lib\\site-packages\\catboost\\core.py\", line 5201, in fit\n",
      "    self._fit(X, y, cat_features, text_features, embedding_features, None, sample_weight, None, None, None, None, baseline, use_best_model,\n",
      "  File \"C:\\Users\\s.iglin\\AppData\\Local\\Programs\\Python\\Python310\\lib\\site-packages\\catboost\\core.py\", line 2396, in _fit\n",
      "    self._train(\n",
      "  File \"C:\\Users\\s.iglin\\AppData\\Local\\Programs\\Python\\Python310\\lib\\site-packages\\catboost\\core.py\", line 1776, in _train\n",
      "    self._object._train(train_pool, test_pool, params, allow_clear_pool, init_model._object if init_model else None)\n",
      "  File \"_catboost.pyx\", line 4833, in _catboost._CatBoost._train\n",
      "  File \"_catboost.pyx\", line 4882, in _catboost._CatBoost._train\n",
      "KeyboardInterrupt\n",
      "\u001b[33m[W 2024-08-28 19:18:07,244]\u001b[0m Trial 5 failed with value None.\u001b[0m\n"
     ]
    },
    {
     "name": "stderr",
     "output_type": "stream",
     "text": [
      "\n",
      "KeyboardInterrupt\n",
      "\n"
     ]
    }
   ],
   "source": [
    "def objective(trial):\n",
    "\n",
    "    \n",
    "    param = {\n",
    "        \"iterations\": trial.suggest_int(\"iterations\", 100, 1000), \n",
    "        \"min_data_in_leaf\": trial.suggest_int(\"min_data_in_leaf\", 1, 100),\n",
    "        \"depth\": trial.suggest_int(\"depth\", 4, 10),\n",
    "        \"learning_rate\": trial.suggest_float(\"learning_rate\", 0.001, 0.5)}      \n",
    "       \n",
    "    \n",
    "    \n",
    "    param_smote = {\"k_neighbors\": trial.suggest_int(\"k_neighbors\", 4, 10)}\n",
    "    param_threshold = trial.suggest_int(\"param_threshold\", 10, 90)\n",
    "      \n",
    "    \n",
    "    # Создание пайплайна\n",
    "    pipeline = CatBoostClassifier(\n",
    "            **param,\n",
    "            verbose=0,  #task_type=\"GPU\", devices='0',\n",
    "            random_state=random_state, early_stopping_rounds=150, eval_metric='F1')\n",
    "    skf = StratifiedKFold(random_state=random_state, n_splits=5, shuffle=True)\n",
    "    \n",
    "    oversample = SMOTE(random_state=random_state, **param_smote)\n",
    "    param_threshold_ = param_threshold\n",
    "    f1_scores = []\n",
    "    for i, (train_index, valid_index) in enumerate(skf.split(X_train_valid, y_train_valid)):\n",
    "        \n",
    "        X_train_oversampled, y_train_oversampled = oversample.fit_resample(X_train_valid.iloc[train_index], y_train_valid.iloc[train_index])\n",
    "        pipeline.fit(X_train_oversampled, y_train_oversampled)\n",
    "        pred_prob = pipeline.predict_proba(X_train_valid.iloc[valid_index])[:, 1]\n",
    "        f1_scores.append(f1_score(y_train_valid.iloc[valid_index], pred_prob > param_threshold_/100))\n",
    "    return np.mean(f1_scores)\n",
    "\n",
    "# Настройка и запуск оптимизации\n",
    "sampler = optuna.samplers.TPESampler(seed=random_state)\n",
    "study = optuna.create_study(direction='maximize', sampler=sampler)\n",
    "study.optimize(objective, n_trials=n_trials, show_progress_bar=True)\n",
    "\n",
    "# Вывод лучших параметров\n",
    "print(f\"Лучшие параметры_catboost: {study.best_params}\")\n",
    "print(f\"Лучший скор на valid_catboost: {study.best_value}\")\n",
    "\n",
    "# Обучение и оценка модели на тестовой выборке с использованием лучших параметров\n",
    "best_params_catboost = study.best_params\n",
    "best_score_catboost = study.best_value\n",
    "\n",
    "best_model_catboost = CatBoostClassifier(\n",
    "    verbose=0,  #task_type=\"GPU\", devices='0',\n",
    "    random_state=random_state,\n",
    "    iterations=best_params_catboost['iterations'], \n",
    "    min_data_in_leaf=best_params_catboost['min_data_in_leaf'], \n",
    "    depth=best_params_catboost['depth'], \n",
    "    learning_rate=best_params_catboost['learning_rate']) \n",
    "oversample = SMOTE(random_state=random_state, k_neighbors=best_params_catboost['k_neighbors'])\n",
    "X_train_oversampled_fin, y_train_oversampled_fin = oversample.fit_resample(X_train_valid, y_train_valid)\n",
    "best_model_catboost.fit(X_train_oversampled_fin, y_train_oversampled_fin)\n",
    "f1_catboost = f1_score(y_test, (best_model_catboost.predict_proba(X_test)[:, 1] > best_params_catboost['param_threshold']/100).astype(int))\n",
    "tn_catboost, fp_catboost, fn_catboost, tp_catboost = confusion_matrix(y_test, (best_model_catboost.predict_proba(X_test)[:, 1] > best_params_catboost['param_threshold']/100).astype(int)).ravel()\n",
    "recall_catboost = recall_score(y_test, (best_model_catboost.predict_proba(X_test)[:, 1] > best_params_catboost['param_threshold']/100).astype(int))\n",
    "precision_catboost = recall_score(y_test, (best_model_catboost.predict_proba(X_test)[:, 1] > best_params_catboost['param_threshold']/100).astype(int))"
   ]
  },
  {
   "cell_type": "markdown",
   "id": "be88f345",
   "metadata": {},
   "source": [
    "# MLP"
   ]
  },
  {
   "cell_type": "code",
   "execution_count": 32,
   "id": "d2c92f10",
   "metadata": {},
   "outputs": [
    {
     "data": {
      "application/vnd.jupyter.widget-view+json": {
       "model_id": "593fb20073cf4074b30754ae5213969e",
       "version_major": 2,
       "version_minor": 0
      },
      "text/plain": [
       "  0%|          | 0/100 [00:00<?, ?it/s]"
      ]
     },
     "metadata": {},
     "output_type": "display_data"
    },
    {
     "name": "stdout",
     "output_type": "stream",
     "text": [
      "Лучшие параметры_mlp: {'scaler': 'RobustScaler', 'hidden_layer_sizes': 66, 'activation': 'relu', 'alpha': 0.009992552310447626, 'learning_rate_init': 0.009866731390762627, 'k_neighbors': 8, 'param_threshold': 25}\n",
      "Лучший скор на valid_mlp: 0.38392156862745097\n"
     ]
    }
   ],
   "source": [
    "def objective(trial):\n",
    "# Выбор масштабировщика\n",
    "    scaler_name = trial.suggest_categorical('scaler', ['StandardScaler', 'MinMaxScaler', 'RobustScaler'])\n",
    "    if scaler_name == 'StandardScaler':\n",
    "        scaler = StandardScaler()\n",
    "    elif scaler_name == 'MinMaxScaler':\n",
    "        scaler = MinMaxScaler()\n",
    "    else:\n",
    "        scaler = RobustScaler()\n",
    "    \n",
    "    # Выбор параметров многослойного перцептрона\n",
    "    hidden_layer_sizes = trial.suggest_int(\"hidden_layer_sizes\", 32, 512)\n",
    "    activation = trial.suggest_categorical('activation', ['identity', 'logistic', 'tanh', 'relu'])\n",
    "    alpha = trial.suggest_float('alpha', 1e-5, 1e-2)\n",
    "    learning_rate_init = trial.suggest_float('learning_rate_init', 1e-4, 1e-2)\n",
    "    param_smote = {\"k_neighbors\": trial.suggest_int(\"k_neighbors\", 4, 10)}\n",
    "    param_threshold = trial.suggest_int(\"param_threshold\", 10, 90)\n",
    "        \n",
    "    # Создание пайплайна\n",
    "    pipeline = Pipeline([\n",
    "        ('scaler', scaler),\n",
    "        ('MLP', MLPClassifier(random_state=random_state, max_iter=3000, \n",
    "                              hidden_layer_sizes=hidden_layer_sizes, activation=activation,\n",
    "            alpha=alpha,  learning_rate_init=learning_rate_init))\n",
    "    ])\n",
    "    \n",
    "    # Оценка качества модели с помощью кросс-валидации\n",
    "    \n",
    "    \n",
    "    skf = StratifiedKFold(random_state=random_state, n_splits=5, shuffle=True)\n",
    "    \n",
    "    oversample = SMOTE(random_state=random_state, **param_smote)\n",
    "    f1_scores = []\n",
    "    param_threshold_ = param_threshold\n",
    "    for i, (train_index, valid_index) in enumerate(skf.split(X_train_valid, y_train_valid)):\n",
    "        \n",
    "        X_train_oversampled, y_train_oversampled = oversample.fit_resample(X_train_valid.iloc[train_index], y_train_valid.iloc[train_index])\n",
    "        pipeline.fit(X_train_oversampled, y_train_oversampled)\n",
    "        pred_prob = pipeline.predict_proba(X_train_valid.iloc[valid_index])[:, 1]\n",
    "        f1_scores.append(f1_score(y_train_valid.iloc[valid_index], pred_prob > param_threshold_/100))\n",
    "    return np.mean(f1_scores)\n",
    "\n",
    "# Настройка и запуск оптимизации\n",
    "sampler = optuna.samplers.TPESampler(seed=random_state)\n",
    "study = optuna.create_study(direction='maximize', sampler=sampler)\n",
    "study.optimize(objective, n_trials=n_trials, show_progress_bar=True)\n",
    "\n",
    "# Вывод лучших параметров\n",
    "print(f\"Лучшие параметры_mlp: {study.best_params}\")\n",
    "print(f\"Лучший скор на valid_mlp: {study.best_value}\")\n",
    "\n",
    "# Обучение и оценка модели на тестовой выборке с использованием лучших параметров\n",
    "best_params_mlp = study.best_params\n",
    "best_score_mlp = study.best_value\n",
    "\n",
    "# Воссоздание наилучшего масштабировщика\n",
    "if best_params_mlp['scaler'] == 'StandardScaler':\n",
    "    best_scaler = StandardScaler()\n",
    "elif best_params_mlp['scaler'] == 'MinMaxScaler':\n",
    "    best_scaler = MinMaxScaler()\n",
    "else:\n",
    "    best_scaler = RobustScaler()\n",
    "\n",
    "# Воссоздание наилучшей модели\n",
    "best_model_mlp = Pipeline([\n",
    "    ('scaler', best_scaler),\n",
    "    ('MLP', MLPClassifier(\n",
    "        \n",
    "        hidden_layer_sizes=best_params_mlp['hidden_layer_sizes'],\n",
    "        activation=best_params_mlp['activation'],\n",
    "        alpha=best_params_mlp['alpha'],\n",
    "        learning_rate_init=best_params_mlp['learning_rate_init'],\n",
    "        random_state=random_state,\n",
    "        max_iter=3000\n",
    "    ))\n",
    "])\n",
    "oversample = SMOTE(random_state=random_state, k_neighbors=best_params_mlp['k_neighbors'])\n",
    "X_train_oversampled_fin, y_train_oversampled_fin = oversample.fit_resample(X_train_valid, y_train_valid)\n",
    "best_model_mlp.fit(X_train_oversampled_fin, y_train_oversampled_fin)\n",
    "f1_mlp = f1_score(y_test, (best_model_mlp.predict_proba(X_test)[:, 1] > best_params_mlp['param_threshold']/100).astype(int))\n",
    "tn_mlp, fp_mlp, fn_mlp, tp_mlp = confusion_matrix(y_test, (best_model_mlp.predict_proba(X_test)[:, 1] > best_params_mlp['param_threshold']/100).astype(int)).ravel()\n",
    "recall_mlp = recall_score(y_test, (best_model_mlp.predict_proba(X_test)[:, 1] > best_params_mlp['param_threshold']/100).astype(int))\n",
    "precision_mlp = recall_score(y_test, (best_model_mlp.predict_proba(X_test)[:, 1] > best_params_mlp['param_threshold']/100).astype(int))"
   ]
  },
  {
   "cell_type": "code",
   "execution_count": 33,
   "id": "8e0214c8",
   "metadata": {},
   "outputs": [],
   "source": [
    "models = pd.DataFrame({'model': ['LogisticRegression', 'KNN', 'CatBoost', 'MLP'], \n",
    "              'F1_score_test': [f1_LogReg, f1_KNN, f1_catboost, f1_mlp],\n",
    "              'F1_score_valid': [best_score_LogReg, best_score_KNN, best_score_catboost, best_score_mlp],        \n",
    "              'Recall': [recall_LorReg, recall_KNN, recall_catboost, recall_mlp],\n",
    "              'Precision': [precision_LorReg, precision_KNN, precision_catboost, precision_mlp],\n",
    "              'TN': [tn_LogReg, tn_KNN, tn_catboost, tn_mlp],\n",
    "              'FP': [fp_LogReg, fp_KNN, fp_catboost, fp_mlp],\n",
    "              'FN': [fn_LogReg, fn_KNN, fn_catboost, fn_mlp],\n",
    "              'TP': [tp_LogReg, tp_KNN, tp_catboost, tp_mlp],\n",
    "              'prob_threshold': [best_params_LogReg['param_threshold'], best_params_KNN['param_threshold'], best_params_catboost['param_threshold'], best_params_mlp['param_threshold']]})"
   ]
  },
  {
   "cell_type": "code",
   "execution_count": 34,
   "id": "16a74e45",
   "metadata": {},
   "outputs": [
    {
     "data": {
      "text/html": [
       "<div>\n",
       "<style scoped>\n",
       "    .dataframe tbody tr th:only-of-type {\n",
       "        vertical-align: middle;\n",
       "    }\n",
       "\n",
       "    .dataframe tbody tr th {\n",
       "        vertical-align: top;\n",
       "    }\n",
       "\n",
       "    .dataframe thead th {\n",
       "        text-align: right;\n",
       "    }\n",
       "</style>\n",
       "<table border=\"1\" class=\"dataframe\">\n",
       "  <thead>\n",
       "    <tr style=\"text-align: right;\">\n",
       "      <th></th>\n",
       "      <th>model</th>\n",
       "      <th>F1_score_test</th>\n",
       "      <th>F1_score_valid</th>\n",
       "      <th>Recall</th>\n",
       "      <th>Precision</th>\n",
       "      <th>TN</th>\n",
       "      <th>FP</th>\n",
       "      <th>FN</th>\n",
       "      <th>TP</th>\n",
       "      <th>prob_threshold</th>\n",
       "    </tr>\n",
       "  </thead>\n",
       "  <tbody>\n",
       "    <tr>\n",
       "      <th>2</th>\n",
       "      <td>CatBoost</td>\n",
       "      <td>0.250000</td>\n",
       "      <td>0.398889</td>\n",
       "      <td>0.2</td>\n",
       "      <td>0.2</td>\n",
       "      <td>226</td>\n",
       "      <td>2</td>\n",
       "      <td>4</td>\n",
       "      <td>1</td>\n",
       "      <td>36</td>\n",
       "    </tr>\n",
       "    <tr>\n",
       "      <th>3</th>\n",
       "      <td>MLP</td>\n",
       "      <td>0.333333</td>\n",
       "      <td>0.383922</td>\n",
       "      <td>0.2</td>\n",
       "      <td>0.2</td>\n",
       "      <td>228</td>\n",
       "      <td>0</td>\n",
       "      <td>4</td>\n",
       "      <td>1</td>\n",
       "      <td>25</td>\n",
       "    </tr>\n",
       "    <tr>\n",
       "      <th>1</th>\n",
       "      <td>KNN</td>\n",
       "      <td>0.352941</td>\n",
       "      <td>0.367350</td>\n",
       "      <td>0.6</td>\n",
       "      <td>0.6</td>\n",
       "      <td>219</td>\n",
       "      <td>9</td>\n",
       "      <td>2</td>\n",
       "      <td>3</td>\n",
       "      <td>81</td>\n",
       "    </tr>\n",
       "    <tr>\n",
       "      <th>0</th>\n",
       "      <td>LogisticRegression</td>\n",
       "      <td>0.727273</td>\n",
       "      <td>0.396681</td>\n",
       "      <td>0.8</td>\n",
       "      <td>0.8</td>\n",
       "      <td>226</td>\n",
       "      <td>2</td>\n",
       "      <td>1</td>\n",
       "      <td>4</td>\n",
       "      <td>70</td>\n",
       "    </tr>\n",
       "  </tbody>\n",
       "</table>\n",
       "</div>"
      ],
      "text/plain": [
       "                model  F1_score_test  F1_score_valid  Recall  Precision   TN  \\\n",
       "2            CatBoost       0.250000        0.398889     0.2        0.2  226   \n",
       "3                 MLP       0.333333        0.383922     0.2        0.2  228   \n",
       "1                 KNN       0.352941        0.367350     0.6        0.6  219   \n",
       "0  LogisticRegression       0.727273        0.396681     0.8        0.8  226   \n",
       "\n",
       "   FP  FN  TP  prob_threshold  \n",
       "2   2   4   1              36  \n",
       "3   0   4   1              25  \n",
       "1   9   2   3              81  \n",
       "0   2   1   4              70  "
      ]
     },
     "execution_count": 34,
     "metadata": {},
     "output_type": "execute_result"
    }
   ],
   "source": [
    "models.sort_values('F1_score_test')"
   ]
  },
  {
   "cell_type": "code",
   "execution_count": null,
   "id": "ca35e510",
   "metadata": {},
   "outputs": [],
   "source": []
  },
  {
   "cell_type": "code",
   "execution_count": null,
   "id": "c771f0a2-47cf-488d-903f-8d04a2239c78",
   "metadata": {},
   "outputs": [],
   "source": []
  },
  {
   "cell_type": "code",
   "execution_count": null,
   "id": "64fcd354-c85d-4db5-9dee-595938d5c037",
   "metadata": {},
   "outputs": [],
   "source": []
  }
 ],
 "metadata": {
  "kernelspec": {
   "display_name": "Python 3 (ipykernel)",
   "language": "python",
   "name": "python3"
  },
  "language_info": {
   "codemirror_mode": {
    "name": "ipython",
    "version": 3
   },
   "file_extension": ".py",
   "mimetype": "text/x-python",
   "name": "python",
   "nbconvert_exporter": "python",
   "pygments_lexer": "ipython3",
   "version": "3.10.11"
  }
 },
 "nbformat": 4,
 "nbformat_minor": 5
}
